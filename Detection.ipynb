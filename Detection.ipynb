{
 "cells": [
  {
   "cell_type": "code",
   "execution_count": null,
   "metadata": {},
   "outputs": [],
   "source": [
    "# Download video from pixabay\n",
    "# the link is: https://pixabay.com/videos/traffic-cars-highway-road-street-20581/"
   ]
  },
  {
   "cell_type": "code",
   "execution_count": null,
   "metadata": {},
   "outputs": [],
   "source": [
    "# Run detection on a traffic video test\n",
    "!python3 yolov5/detect.py --weights yolov5/yolov5x.pt yolov5/yolov5l.pt --img 3840 --conf 0.5 --source 'data/traffic/traffic.mp4'   --output 'data/traffic/out'"
   ]
  }
 ],
 "metadata": {
  "kernelspec": {
   "display_name": "Python 3.6.9 64-bit",
   "language": "python",
   "name": "python36964bit33d4e1a3df9a471990a1f0f0d6f88b0a"
  },
  "language_info": {
   "codemirror_mode": {
    "name": "ipython",
    "version": 3
   },
   "file_extension": ".py",
   "mimetype": "text/x-python",
   "name": "python",
   "nbconvert_exporter": "python",
   "pygments_lexer": "ipython3",
   "version": "3.6.9"
  }
 },
 "nbformat": 4,
 "nbformat_minor": 4
}