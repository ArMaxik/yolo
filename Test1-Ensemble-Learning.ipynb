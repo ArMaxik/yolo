{
 "metadata": {
  "language_info": {
   "codemirror_mode": {
    "name": "ipython",
    "version": 3
   },
   "file_extension": ".py",
   "mimetype": "text/x-python",
   "name": "python",
   "nbconvert_exporter": "python",
   "pygments_lexer": "ipython3",
   "version": "3.6.9-final"
  },
  "orig_nbformat": 2,
  "kernelspec": {
   "name": "Python 3.6.9 64-bit",
   "display_name": "Python 3.6.9 64-bit",
   "metadata": {
    "interpreter": {
     "hash": "31f2aee4e71d21fbe5cf8b01ff0e069b9275f58929596ceb00d14d90e3e16cd6"
    }
   }
  }
 },
 "nbformat": 4,
 "nbformat_minor": 2,
 "cells": [
  {
   "source": [
    "# Test 1 with [yolov5x & yolov5l] Ensemble Learning"
   ],
   "cell_type": "markdown",
   "metadata": {}
  },
  {
   "source": [
    "## Download test video"
   ],
   "cell_type": "markdown",
   "metadata": {}
  },
  {
   "cell_type": "code",
   "execution_count": null,
   "metadata": {},
   "outputs": [],
   "source": [
    "# Download video from pixabay\n",
    "# link 1: https://pixabay.com/videos/traffic-cars-highway-road-street-20581/   => Save the video under 'data/traffic/' as 'daylight.mp4'\n",
    "# link 2: https://pixabay.com/videos/freeway-car-velocity-holidays-50563/     => Save the video under 'data/traffic/' as 'lowlight.mp4'"
   ]
  },
  {
   "source": [
    "## Detection run with image size = [4K], confidence = [0.5] and weight [yolov5x.pt & yolov5l.pt]"
   ],
   "cell_type": "markdown",
   "metadata": {}
  },
  {
   "cell_type": "code",
   "execution_count": null,
   "metadata": {},
   "outputs": [],
   "source": [
    "# Run detection on a traffic video daylight\n",
    "!python3 yolov5/detect.py --weights yolov5/yolov5x.pt yolov5/yolov5l.pt --img 3840 --conf 0.5 --source 'data/traffic/daylight.mp4'   --output 'data/traffic/test1'\n",
    "\n",
    "# Using CUDA device0 _CudaDeviceProperties(name='Tesla T4', total_memory=15079MB)\n",
    "# 1 frame process = 0.9s\n",
    "# 505 frame"
   ]
  },
  {
   "cell_type": "code",
   "execution_count": null,
   "metadata": {},
   "outputs": [],
   "source": [
    "# Run detection on a traffic video night\n",
    "!python3 yolov5/detect.py --weights yolov5/yolov5x.pt yolov5/yolov5l.pt --img 3840 --conf 0.5 --source 'data/traffic/lowlight.mp4'   --output 'data/traffic/test1'\n",
    "\n",
    "# Using CUDA device0 _CudaDeviceProperties(name='Tesla T4', total_memory=15079MB)\n",
    "# 1 frame process = 0.6s\n",
    "# 704 frame"
   ]
  }
 ]
}